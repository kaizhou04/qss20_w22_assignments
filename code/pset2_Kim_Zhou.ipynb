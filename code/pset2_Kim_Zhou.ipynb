{
 "cells": [
  {
   "cell_type": "markdown",
   "metadata": {},
   "source": [
    "# Problem Set 2 (30 points)\n",
    "\n",
    "Use the same `sentencing_cleaned` data from Problem Set 1 for this assignment. You can either read in the pkl or csv but if csv, follow the instructions in the Github issue here to recast some columns as datetime: https://github.com/rebeccajohnson88/qss20_slides_activities/issues/6#issuecomment-1013546655\n",
    "\n",
    "In Problem Set 1, you investigated one form of disparity in the US criminal justice system: probation versus incarceration.\n",
    "\n",
    "Here, you'll investigate a second type of disparity---the length of a defendant's sentence---and also investigate the disparities faced by defendants sentenced by the same judge for the same crime. \n",
    "\n",
    "As a reminder, the codebook is available at this link:  https://datacatalog.cookcountyil.gov/api/views/tg8v-tm6u/files/8597cdda-f7e1-44d1-b0ce-0a4e43f8c980?download=true&filename=CCSAO%20Data%20Glossary.pdf)"
   ]
  },
  {
   "cell_type": "markdown",
   "metadata": {},
   "source": [
    "# 0. Load packages and imports"
   ]
  },
  {
   "cell_type": "code",
   "execution_count": 72,
   "metadata": {},
   "outputs": [],
   "source": [
    "## basic functionality\n",
    "import pandas as pd\n",
    "import numpy as np\n",
    "import os\n",
    "import plotnine\n",
    "from plotnine import *\n",
    "import matplotlib.pyplot as plt\n",
    "\n",
    "## repeated printouts\n",
    "from IPython.core.interactiveshell import InteractiveShell\n",
    "InteractiveShell.ast_node_interactivity = \"all\""
   ]
  },
  {
   "cell_type": "markdown",
   "metadata": {},
   "source": [
    "## 1.1 Read in the data and filter to defendants who were incarcerated and construct a sentence length variable (14 points)\n"
   ]
  },
  {
   "cell_type": "markdown",
   "metadata": {},
   "source": [
    "### Part A"
   ]
  },
  {
   "cell_type": "markdown",
   "metadata": {},
   "source": [
    "- Read in the data\n",
    "- Filter to sentences that involve incarceration (same Illinois Department of Corrections logic as in problem set one: \n",
    "incarceration is indicated by `COMMITMENT_TYPE` == \"Illinois Department of Corrections\")\n",
    "- Using the `COMMITMENT_UNIT` column that represents sentence length, filter out the following non-numeric sentence lengths: Term, Pounds, Dollars, Ounces (year, months, natural life, days, hours, and weeks should remain)\n",
    "- Filter to Black or White defendants\n",
    "\n",
    "**Concepts tested and resources**: this question tests filtering rows based on logical conditions. Here are some resources:\n",
    "- DataCamp on .loc: https://campus.datacamp.com/courses/data-manipulation-with-pandas/slicing-and-indexing-dataframes?ex=3\n",
    "- Lecture 2 slide 19: https://campus.datacamp.com/courses/data-manipulation-with-pandas/slicing-and-indexing-dataframes?ex=3 \n",
    "- Row subsetting section in this activity: https://github.com/rebeccajohnson88/qss20_slides_activities/blob/main/activities/w22_activities/solutions/00_pandas_datacleaning_solutions.ipynb\n",
    "\n",
    "**Hints on output**: we get 58289 rows remaining after this filtering. Don't worry about matching this exactly but try to get in the ballpark range. "
   ]
  },
  {
   "cell_type": "code",
   "execution_count": 2,
   "metadata": {},
   "outputs": [],
   "source": [
    "sentencing_cleaned = pd.read_pickle(\"sentencing_cleaned.pkl\")\n",
    "\n",
    "sentencing_cleaned = sentencing_cleaned[sentencing_cleaned.COMMITMENT_TYPE == \"Illinois Department of Corrections\"]\n",
    "\n",
    "sentencing_cleaned = sentencing_cleaned[(sentencing_cleaned.COMMITMENT_UNIT != 'Term') & (sentencing_cleaned.COMMITMENT_UNIT != 'Pounds') & (sentencing_cleaned.COMMITMENT_UNIT != 'Dollars') & (sentencing_cleaned.COMMITMENT_UNIT != 'Ounces')]\n",
    "\n",
    "sentencing_cleaned['is_black_or_white'] = (sentencing_cleaned.is_black_derived == True) | (sentencing_cleaned.is_white_derived == True)\n",
    "\n",
    "sentencing_cleaned = sentencing_cleaned[sentencing_cleaned.is_black_or_white]\n",
    "\n",
    "\n"
   ]
  },
  {
   "cell_type": "markdown",
   "metadata": {},
   "source": [
    "### Part B"
   ]
  },
  {
   "cell_type": "markdown",
   "metadata": {},
   "source": [
    "\n",
    "Then, follow the instructions in the codebook (combining `COMMITMENT_TERM` with `COMMITMENT_UNIT`) to create a standard sentence length in days column (`senlength_derived`) that measures the sentence in **days**. To simplify, you can assume that:\n",
    "\n",
    "- 1 hour = 1/24th of a day\n",
    "- 1 year = 365 days\n",
    "- 1 month = 30.5 days\n",
    "- 1 week = 7 days\n",
    "- Natural life = difference between the age of 100 and the defendant's age at incident (cleaned; if missing, code to age 20); note that this is a simplification since age at incident != age at sentencing \n",
    "\n",
    "Print the following cols for an example of each type (eg an example of originally hours; an example of natural life): `COMMITMENT_TERM`, `COMMITMENT_UNIT`, `age_derived` and your new standardized sentence length column (`senlength_derived`)\n",
    "\n",
    "Print the summary of that column (`senlength_derived`) using the .describe() command\n",
    "\n",
    "**Concepts tested and resources**: there are many approaches but a couple ways are:\n",
    "- np.select covered in the slides and this activity notebook: https://github.com/rebeccajohnson88/qss20_slides_activities/blob/main/activities/w22_activities/solutions/00_pandas_datacleaning_solutions.ipynb \n",
    "- writing a function that takes in one row as an argument and has a series of if, elif, else conditions where different commitment_units are translated into days. To execute this function, you can use the .apply function but apply it with axis = 1 (row-wise). Resources for that include: (1) the activity notebook on user-defined functions (https://github.com/rebeccajohnson88/qss20_slides_activities/blob/main/activities/w22_activities/solutions/02_loopsfunctions_solutions.ipynb); (2) the activity notebook covering apply: https://github.com/rebeccajohnson88/qss20_slides_activities/blob/main/activities/w22_activities/solutions/00_pandas_datacleaning_solutions.ipynb\n",
    "\n",
    "**Hint on output**: see GitHub issue for the summary stats we get from running .describe()"
   ]
  },
  {
   "cell_type": "code",
   "execution_count": 3,
   "metadata": {},
   "outputs": [],
   "source": [
    "## Your code here on translation of units\n",
    "# sentencing_cleaned['COMMITMENT_TERM']\n",
    "sentencing_cleaned['senlength_derived'] = np.select([sentencing_cleaned['COMMITMENT_UNIT']=='Year(s)', \n",
    "                                                     sentencing_cleaned['COMMITMENT_UNIT']=='Months', \n",
    "                                                     sentencing_cleaned['COMMITMENT_UNIT']=='Weeks', \n",
    "                                                     sentencing_cleaned['COMMITMENT_UNIT']=='Hours', \n",
    "                                                     sentencing_cleaned['COMMITMENT_UNIT']=='Natural Life'],\n",
    "                                                    [sentencing_cleaned['COMMITMENT_TERM'].astype(float) * 365,\n",
    "                                                    sentencing_cleaned['COMMITMENT_TERM'].astype(float) * 30.5,\n",
    "                                                    sentencing_cleaned['COMMITMENT_TERM'].astype(float) * 7,\n",
    "                                                    sentencing_cleaned['COMMITMENT_TERM'].astype(float) / 24,\n",
    "                                                    (100 - sentencing_cleaned['AGE_AT_INCIDENT'].astype(float)) * 365],\n",
    "                                                    default=sentencing_cleaned['COMMITMENT_TERM'])\n",
    "\n",
    "sentencing_cleaned = sentencing_cleaned.reset_index()\n",
    "\n",
    "    "
   ]
  },
  {
   "cell_type": "code",
   "execution_count": 4,
   "metadata": {},
   "outputs": [
    {
     "data": {
      "text/html": [
       "<div>\n",
       "<style scoped>\n",
       "    .dataframe tbody tr th:only-of-type {\n",
       "        vertical-align: middle;\n",
       "    }\n",
       "\n",
       "    .dataframe tbody tr th {\n",
       "        vertical-align: top;\n",
       "    }\n",
       "\n",
       "    .dataframe thead th {\n",
       "        text-align: right;\n",
       "    }\n",
       "</style>\n",
       "<table border=\"1\" class=\"dataframe\">\n",
       "  <thead>\n",
       "    <tr style=\"text-align: right;\">\n",
       "      <th></th>\n",
       "      <th>age_derived</th>\n",
       "      <th>COMMITMENT_UNIT</th>\n",
       "      <th>COMMITMENT_TERM</th>\n",
       "      <th>senlength_derived</th>\n",
       "    </tr>\n",
       "  </thead>\n",
       "  <tbody>\n",
       "    <tr>\n",
       "      <th>1</th>\n",
       "      <td>30.0</td>\n",
       "      <td>Natural Life</td>\n",
       "      <td>1.0</td>\n",
       "      <td>25550.0</td>\n",
       "    </tr>\n",
       "    <tr>\n",
       "      <th>0</th>\n",
       "      <td>27.0</td>\n",
       "      <td>Year(s)</td>\n",
       "      <td>62.0</td>\n",
       "      <td>22630.0</td>\n",
       "    </tr>\n",
       "    <tr>\n",
       "      <th>58</th>\n",
       "      <td>29.0</td>\n",
       "      <td>Months</td>\n",
       "      <td>18.0</td>\n",
       "      <td>549.0</td>\n",
       "    </tr>\n",
       "    <tr>\n",
       "      <th>7656</th>\n",
       "      <td>23.0</td>\n",
       "      <td>Weeks</td>\n",
       "      <td>2.0</td>\n",
       "      <td>14.0</td>\n",
       "    </tr>\n",
       "    <tr>\n",
       "      <th>2541</th>\n",
       "      <td>40.0</td>\n",
       "      <td>Days</td>\n",
       "      <td>90.0</td>\n",
       "      <td>90.0</td>\n",
       "    </tr>\n",
       "    <tr>\n",
       "      <th>42044</th>\n",
       "      <td>22.0</td>\n",
       "      <td>Hours</td>\n",
       "      <td>1.0</td>\n",
       "      <td>0.041667</td>\n",
       "    </tr>\n",
       "  </tbody>\n",
       "</table>\n",
       "</div>"
      ],
      "text/plain": [
       "       age_derived COMMITMENT_UNIT COMMITMENT_TERM senlength_derived\n",
       "1             30.0    Natural Life             1.0           25550.0\n",
       "0             27.0         Year(s)            62.0           22630.0\n",
       "58            29.0          Months            18.0             549.0\n",
       "7656          23.0           Weeks             2.0              14.0\n",
       "2541          40.0            Days            90.0              90.0\n",
       "42044         22.0           Hours             1.0          0.041667"
      ]
     },
     "execution_count": 4,
     "metadata": {},
     "output_type": "execute_result"
    }
   ],
   "source": [
    "## Your code here on printing example of each type of committment unit and what it's senlength_derived is\n",
    "sentencing_cleaned[['age_derived', 'COMMITMENT_UNIT', 'COMMITMENT_TERM', 'senlength_derived']].iloc[[1, 0, 58, 7656, 2541, 42044]]\n"
   ]
  },
  {
   "cell_type": "code",
   "execution_count": 5,
   "metadata": {},
   "outputs": [
    {
     "data": {
      "text/plain": [
       "count     58289.0\n",
       "unique      240.0\n",
       "top         365.0\n",
       "freq      14456.0\n",
       "Name: senlength_derived, dtype: float64"
      ]
     },
     "execution_count": 5,
     "metadata": {},
     "output_type": "execute_result"
    }
   ],
   "source": [
    "## Your code here with the .describe() command summary of the senlength_derived column\n",
    "sentencing_cleaned['senlength_derived'].describe()"
   ]
  },
  {
   "cell_type": "markdown",
   "metadata": {},
   "source": [
    "## 1.2 Examine disparities in length within the same judge and offense category: constructing matched pairs (16 points)\n",
    "\n"
   ]
  },
  {
   "cell_type": "markdown",
   "metadata": {},
   "source": [
    "### Part A "
   ]
  },
  {
   "cell_type": "markdown",
   "metadata": {},
   "source": [
    "Keep the above ~58k row dataset that is subsetted to only to sentences involving incarceration. Then, further subset the rows to:\n",
    "- Rows where `judgeid_derived` = `judge_21` \n",
    "- `simplified_offense_derived` == \"Narcotics\"\n",
    "\n",
    "Use `shape` to print the dimensions of the resulting dataframe\n",
    "\n",
    "**Concepts and resources**: row subsetting using logical conditions; see above resources\n",
    "\n",
    "**Hint on output**: we get 53 rows after this filtering step. Don't worry about matching this exactly but try to get in the ballpark range. "
   ]
  },
  {
   "cell_type": "code",
   "execution_count": 6,
   "metadata": {},
   "outputs": [
    {
     "data": {
      "text/plain": [
       "(53, 55)"
      ]
     },
     "execution_count": 6,
     "metadata": {},
     "output_type": "execute_result"
    }
   ],
   "source": [
    "## your code here to filter rows and check the shape\n",
    "sentencing_cleaned_21 = sentencing_cleaned[(sentencing_cleaned['judgeid_derived']=='judge_21') & (sentencing_cleaned['simplified_offense_derived']=='Narcotics')]\n",
    "sentencing_cleaned_21.shape\n"
   ]
  },
  {
   "cell_type": "markdown",
   "metadata": {},
   "source": [
    "### Part B\n",
    "\n",
    "For each defendant sentenced by judge_21, you want to construct a \"matched group\" of defendants who:\n",
    "\n",
    "- Are the same exact age as the focal defendant (`age_derived`) and\n",
    "- Are the same gender as the focal defendant (`is_male_derived`) but \n",
    "- Differ in race from the focal defendant (`is_black_derived`/`is_white_derived`)\n",
    "\n",
    "Write a user-defined function to find any/all matched defendants for each focal defendant of judge 21. You can structure the function in various ways but one way is to write a function similar to the class example where we iterate over different DC crimes (focal crimes) and find similar crimes. For this problem, we want to:\n",
    "\n",
    "- Iterate over unique defendants sentenced by judge 21 (use `CASE_PARTICIPANT_ID` to identify each unique defendant)\n",
    "- Find other defendants in the judge 21 pool who (1) have a different race from that focal defendant but (2) the same gender and age \n",
    "\n",
    "\n",
    "**Concepts and resources**: \n",
    "\n",
    "- Slides and activity code on user-defined functions and iterating using list comprehension: https://github.com/rebeccajohnson88/qss20_slides_activities/blob/main/activities/w22_activities/solutions/02_loopsfunctions_solutions.ipynb\n",
    "- You can either write code in the function to add columns with the attributes of the focal defendant (existing material) or using `pd.merge` to join these on after; we'll be covering `pd.merge` Monday 01.24 but here are last year's slides (slide 17-20) in meantime: https://github.com/rebeccajohnson88/qss20_slides_activities/blob/main/slides/s21_slides/qss20_s21_class4.pdf \n",
    "\n",
    "\n",
    "**Hints on output**: \n",
    "\n",
    "- Some focal defendants may not have any matches; they can be excluded from the results \n",
    "- In the way we wrote our function, each iteration of the function returns a single dataframe; because we execute via list comprehension, the output of this step is a list of dataframes (it's okay if you take a diff approach!)\n"
   ]
  },
  {
   "cell_type": "code",
   "execution_count": 7,
   "metadata": {},
   "outputs": [],
   "source": [
    "## your code here to define function\n",
    "def defendant_match(focal_defendant: pd.DataFrame):\n",
    "    result = sentencing_cleaned_21[(sentencing_cleaned_21['age_derived']==focal_defendant['age_derived']) &\n",
    "                               (sentencing_cleaned_21['is_male_derived']==focal_defendant['is_male_derived']) &\n",
    "                               (sentencing_cleaned_21['is_black_derived']!=focal_defendant['is_black_derived'])]\n",
    "    result['focal'] = focal_defendant['CASE_PARTICIPANT_ID']\n",
    "    return result\n",
    "\n",
    "# focus = sentencing_cleaned.iloc[4]\n",
    "# focus[['CASE_PARTICIPANT_ID', 'age_derived', 'is_male_derived', 'is_black_derived']]\n",
    "# defendant_match(focus)"
   ]
  },
  {
   "cell_type": "code",
   "execution_count": 24,
   "metadata": {
    "scrolled": false
   },
   "outputs": [
    {
     "name": "stderr",
     "output_type": "stream",
     "text": [
      "C:\\Users\\kaizh\\AppData\\Local\\Temp/ipykernel_8384/3999043187.py:6: SettingWithCopyWarning: \n",
      "A value is trying to be set on a copy of a slice from a DataFrame.\n",
      "Try using .loc[row_indexer,col_indexer] = value instead\n",
      "\n",
      "See the caveats in the documentation: https://pandas.pydata.org/pandas-docs/stable/user_guide/indexing.html#returning-a-view-versus-a-copy\n"
     ]
    }
   ],
   "source": [
    "## your code here to execute the function for all defendants sentenced by judge_21 \n",
    "all_matches = []\n",
    "for index in range(0, sentencing_cleaned_21.shape[0]):\n",
    "    defendant = sentencing_cleaned_21.iloc[index]\n",
    "    all_matches.append(defendant_match(defendant))\n",
    "    "
   ]
  },
  {
   "cell_type": "markdown",
   "metadata": {},
   "source": [
    "### Part C"
   ]
  },
  {
   "cell_type": "markdown",
   "metadata": {},
   "source": [
    "Using the results from Part B, use `pd.concat` or another approach to create a dataframe that compares the (1) race and sentence length for the focal defendant to (2) the sentence length for other defendants. Using this dataframe, show this comparison for focal defendant: `CASE_PARTICIPANT_ID` == `808109112733`\n"
   ]
  },
  {
   "cell_type": "code",
   "execution_count": 23,
   "metadata": {},
   "outputs": [
    {
     "data": {
      "text/html": [
       "<div>\n",
       "<style scoped>\n",
       "    .dataframe tbody tr th:only-of-type {\n",
       "        vertical-align: middle;\n",
       "    }\n",
       "\n",
       "    .dataframe tbody tr th {\n",
       "        vertical-align: top;\n",
       "    }\n",
       "\n",
       "    .dataframe thead th {\n",
       "        text-align: right;\n",
       "    }\n",
       "</style>\n",
       "<table border=\"1\" class=\"dataframe\">\n",
       "  <thead>\n",
       "    <tr style=\"text-align: right;\">\n",
       "      <th></th>\n",
       "      <th>CASE_PARTICIPANT_ID_focal</th>\n",
       "      <th>CASE_PARTICIPANT_ID_match</th>\n",
       "      <th>is_black_derived_focal</th>\n",
       "      <th>senlength_derived_focal</th>\n",
       "      <th>senlength_derived_match</th>\n",
       "    </tr>\n",
       "  </thead>\n",
       "  <tbody>\n",
       "    <tr>\n",
       "      <th>56</th>\n",
       "      <td>808109112733</td>\n",
       "      <td>768307912970</td>\n",
       "      <td>True</td>\n",
       "      <td>2190.0</td>\n",
       "      <td>730.0</td>\n",
       "    </tr>\n",
       "    <tr>\n",
       "      <th>57</th>\n",
       "      <td>808109112733</td>\n",
       "      <td>769939231128</td>\n",
       "      <td>True</td>\n",
       "      <td>2190.0</td>\n",
       "      <td>730.0</td>\n",
       "    </tr>\n",
       "    <tr>\n",
       "      <th>58</th>\n",
       "      <td>808109112733</td>\n",
       "      <td>774967571640</td>\n",
       "      <td>True</td>\n",
       "      <td>2190.0</td>\n",
       "      <td>365.0</td>\n",
       "    </tr>\n",
       "  </tbody>\n",
       "</table>\n",
       "</div>"
      ],
      "text/plain": [
       "    CASE_PARTICIPANT_ID_focal  CASE_PARTICIPANT_ID_match  \\\n",
       "56               808109112733               768307912970   \n",
       "57               808109112733               769939231128   \n",
       "58               808109112733               774967571640   \n",
       "\n",
       "    is_black_derived_focal senlength_derived_focal senlength_derived_match  \n",
       "56                    True                  2190.0                   730.0  \n",
       "57                    True                  2190.0                   730.0  \n",
       "58                    True                  2190.0                   365.0  "
      ]
     },
     "execution_count": 23,
     "metadata": {},
     "output_type": "execute_result"
    }
   ],
   "source": [
    "## your code to rowbind all matches and to highlight the comparison\n",
    "match_df = pd.concat(all_matches)\n",
    "merged = match_df.merge(sentencing_cleaned_21, left_on='focal', right_on='CASE_PARTICIPANT_ID', suffixes=('_match', '_focal'))\n",
    "merged = merged[['CASE_PARTICIPANT_ID_focal', 'CASE_PARTICIPANT_ID_match', 'is_black_derived_focal', 'senlength_derived_focal', 'senlength_derived_match']]\n",
    "## for the example defendant \n",
    "example = merged.loc[merged['CASE_PARTICIPANT_ID_focal']==808109112733]\n",
    "example"
   ]
  },
  {
   "cell_type": "markdown",
   "metadata": {},
   "source": [
    "### Part D"
   ]
  },
  {
   "cell_type": "markdown",
   "metadata": {},
   "source": [
    "Using the results from Part C, group by the focal defendant's race and find the proportion of that defendant's matches who had a LONGER sentence than the focal defendant\n",
    "\n",
    "**Concepts and resources**: can use groupby and agg\n",
    "\n",
    "- Groupby and agg code: https://github.com/rebeccajohnson88/qss20_slides_activities/blob/main/activities/w22_activities/solutions/00_pandas_datacleaning_solutions.ipynb\n",
    "\n",
    "**Hints on output**: since we're grouping by race in the full pool, the resulting output should have two values: one for the rate at which Black defendants have matches with higher sentences; another for the rate at which White defendants have matches with higher sentences"
   ]
  },
  {
   "cell_type": "code",
   "execution_count": 25,
   "metadata": {},
   "outputs": [
    {
     "data": {
      "text/plain": [
       "is_black_derived_focal\n",
       "False    0.451613\n",
       "True     0.483871\n",
       "Name: match_longer, dtype: float64"
      ]
     },
     "execution_count": 25,
     "metadata": {},
     "output_type": "execute_result"
    }
   ],
   "source": [
    "## your code here \n",
    "merged['match_longer'] = merged['senlength_derived_match'] > merged['senlength_derived_focal']\n",
    "merged.groupby('is_black_derived_focal')['match_longer'].agg('mean')"
   ]
  },
  {
   "cell_type": "markdown",
   "metadata": {},
   "source": [
    "### Part E "
   ]
  },
  {
   "cell_type": "markdown",
   "metadata": {},
   "source": [
    "Write 1-2 lines commenting on the results from Part D. What other defendant or offense-level characteristics would you like to match on to investigate claims about racial disparities? \n"
   ]
  },
  {
   "cell_type": "markdown",
   "metadata": {},
   "source": [
    "Based on the data, there is a higher proportion of white matches that have a longer sentence when compared to their black focal defendant than of black matches that have a longer sentence when compared to their white focal defendant. \n",
    "It might be interesting to look at the sentencing disparaties between white and black defendants by matching on different crimes such as violent crimes. It might also be interesting to match based on the date of incident to see how sentencing disparaties have changed over time."
   ]
  },
  {
   "cell_type": "markdown",
   "metadata": {},
   "source": [
    "# 2. Optional extra credit/challenge exercise (2 points): examine disparities across multiple judges\n",
    "\n",
    "In problem 1.2, we focused on one judge: judge 21.\n",
    "    \n",
    "For this extra credit exercise, use the same data filtered to (1) incarceration, (2) Black/White only, and (3) narcotics offenses. \n",
    "    \n",
    "- Get judges with a high enough sample of each group to compare sentencing: filter to each judge with at least 20 Black and at least 20 white defendants\n",
    "- For each of the judges, calculate the median sentence length for their Black defendants and (2) the median sentence length for their white defendants \n",
    "- Create a barplot with the result: factor variable on x axis for each judge_id who qualifies; separate bars/colors by race\n",
    "- Write a 1-2 sentence interpretation - if we assume that cases/defendants are randomly assigned to sentencing judges, what might this suggest about the role of judicial discretion in these disparities?\n"
   ]
  },
  {
   "cell_type": "code",
   "execution_count": 80,
   "metadata": {},
   "outputs": [
    {
     "data": {
      "text/html": [
       "<div>\n",
       "<style scoped>\n",
       "    .dataframe tbody tr th:only-of-type {\n",
       "        vertical-align: middle;\n",
       "    }\n",
       "\n",
       "    .dataframe tbody tr th {\n",
       "        vertical-align: top;\n",
       "    }\n",
       "\n",
       "    .dataframe thead th {\n",
       "        text-align: right;\n",
       "    }\n",
       "</style>\n",
       "<table border=\"1\" class=\"dataframe\">\n",
       "  <thead>\n",
       "    <tr style=\"text-align: right;\">\n",
       "      <th></th>\n",
       "      <th></th>\n",
       "      <th>senlength_derived</th>\n",
       "    </tr>\n",
       "    <tr>\n",
       "      <th>judgeid_derived</th>\n",
       "      <th>is_black_derived</th>\n",
       "      <th></th>\n",
       "    </tr>\n",
       "  </thead>\n",
       "  <tbody>\n",
       "    <tr>\n",
       "      <th rowspan=\"2\" valign=\"top\">judge_133</th>\n",
       "      <th>False</th>\n",
       "      <td>365.0</td>\n",
       "    </tr>\n",
       "    <tr>\n",
       "      <th>True</th>\n",
       "      <td>488.0</td>\n",
       "    </tr>\n",
       "    <tr>\n",
       "      <th rowspan=\"2\" valign=\"top\">judge_166</th>\n",
       "      <th>False</th>\n",
       "      <td>365.0</td>\n",
       "    </tr>\n",
       "    <tr>\n",
       "      <th>True</th>\n",
       "      <td>365.0</td>\n",
       "    </tr>\n",
       "    <tr>\n",
       "      <th rowspan=\"2\" valign=\"top\">judge_177</th>\n",
       "      <th>False</th>\n",
       "      <td>365.0</td>\n",
       "    </tr>\n",
       "    <tr>\n",
       "      <th>True</th>\n",
       "      <td>730.0</td>\n",
       "    </tr>\n",
       "    <tr>\n",
       "      <th rowspan=\"2\" valign=\"top\">judge_20</th>\n",
       "      <th>False</th>\n",
       "      <td>365.0</td>\n",
       "    </tr>\n",
       "    <tr>\n",
       "      <th>True</th>\n",
       "      <td>730.0</td>\n",
       "    </tr>\n",
       "    <tr>\n",
       "      <th rowspan=\"2\" valign=\"top\">judge_21</th>\n",
       "      <th>False</th>\n",
       "      <td>730.0</td>\n",
       "    </tr>\n",
       "    <tr>\n",
       "      <th>True</th>\n",
       "      <td>1460.0</td>\n",
       "    </tr>\n",
       "    <tr>\n",
       "      <th rowspan=\"2\" valign=\"top\">judge_279</th>\n",
       "      <th>False</th>\n",
       "      <td>365.0</td>\n",
       "    </tr>\n",
       "    <tr>\n",
       "      <th>True</th>\n",
       "      <td>365.0</td>\n",
       "    </tr>\n",
       "    <tr>\n",
       "      <th rowspan=\"2\" valign=\"top\">judge_320</th>\n",
       "      <th>False</th>\n",
       "      <td>1095.0</td>\n",
       "    </tr>\n",
       "    <tr>\n",
       "      <th>True</th>\n",
       "      <td>730.0</td>\n",
       "    </tr>\n",
       "    <tr>\n",
       "      <th rowspan=\"2\" valign=\"top\">judge_334</th>\n",
       "      <th>False</th>\n",
       "      <td>365.0</td>\n",
       "    </tr>\n",
       "    <tr>\n",
       "      <th>True</th>\n",
       "      <td>730.0</td>\n",
       "    </tr>\n",
       "    <tr>\n",
       "      <th rowspan=\"2\" valign=\"top\">judge_35</th>\n",
       "      <th>False</th>\n",
       "      <td>671.0</td>\n",
       "    </tr>\n",
       "    <tr>\n",
       "      <th>True</th>\n",
       "      <td>549.0</td>\n",
       "    </tr>\n",
       "    <tr>\n",
       "      <th rowspan=\"2\" valign=\"top\">judge_36</th>\n",
       "      <th>False</th>\n",
       "      <td>457.5</td>\n",
       "    </tr>\n",
       "    <tr>\n",
       "      <th>True</th>\n",
       "      <td>730.0</td>\n",
       "    </tr>\n",
       "    <tr>\n",
       "      <th rowspan=\"2\" valign=\"top\">judge_41</th>\n",
       "      <th>False</th>\n",
       "      <td>365.0</td>\n",
       "    </tr>\n",
       "    <tr>\n",
       "      <th>True</th>\n",
       "      <td>365.0</td>\n",
       "    </tr>\n",
       "  </tbody>\n",
       "</table>\n",
       "</div>"
      ],
      "text/plain": [
       "                                  senlength_derived\n",
       "judgeid_derived is_black_derived                   \n",
       "judge_133       False                         365.0\n",
       "                True                          488.0\n",
       "judge_166       False                         365.0\n",
       "                True                          365.0\n",
       "judge_177       False                         365.0\n",
       "                True                          730.0\n",
       "judge_20        False                         365.0\n",
       "                True                          730.0\n",
       "judge_21        False                         730.0\n",
       "                True                         1460.0\n",
       "judge_279       False                         365.0\n",
       "                True                          365.0\n",
       "judge_320       False                        1095.0\n",
       "                True                          730.0\n",
       "judge_334       False                         365.0\n",
       "                True                          730.0\n",
       "judge_35        False                         671.0\n",
       "                True                          549.0\n",
       "judge_36        False                         457.5\n",
       "                True                          730.0\n",
       "judge_41        False                         365.0\n",
       "                True                          365.0"
      ]
     },
     "execution_count": 80,
     "metadata": {},
     "output_type": "execute_result"
    }
   ],
   "source": [
    "sentencing_cleaned_narc = sentencing_cleaned[sentencing_cleaned['simplified_offense_derived']=='Narcotics']\n",
    "judges = sentencing_cleaned_narc.groupby('judgeid_derived')[['is_black_derived', 'is_white_derived']].agg('sum')\n",
    "\n",
    "judges_good_sample = judges[(judges['is_black_derived']>=20) & (judges['is_white_derived']>=20)]\n",
    "judges_good_sample = judges_good_sample.reset_index()\n",
    "judges_list = judges_good_sample['judgeid_derived'].unique()\n",
    "# judges_list\n",
    "sentencing_cleaned_good_judges = sentencing_cleaned_narc.loc[sentencing_cleaned_narc['judgeid_derived'].isin(judges_list)]\n",
    "medians = sentencing_cleaned_good_judges.groupby(['judgeid_derived', 'is_black_derived'])['senlength_derived'].agg('median')\n",
    "median_df = medians.to_frame()\n",
    "median_df\n",
    "median_df = median_df.reset_index()"
   ]
  },
  {
   "cell_type": "code",
   "execution_count": 97,
   "metadata": {},
   "outputs": [
    {
     "data": {
      "text/plain": [
       "<AxesSubplot:xlabel='judgeid_derived'>"
      ]
     },
     "execution_count": 97,
     "metadata": {},
     "output_type": "execute_result"
    },
    {
     "data": {
      "text/plain": [
       "Text(0.5, 1.0, 'Median Sentencing by Judge')"
      ]
     },
     "execution_count": 97,
     "metadata": {},
     "output_type": "execute_result"
    },
    {
     "data": {
      "text/plain": [
       "Text(0.5, 0, 'Judge ID')"
      ]
     },
     "execution_count": 97,
     "metadata": {},
     "output_type": "execute_result"
    },
    {
     "data": {
      "text/plain": [
       "Text(0, 0.5, 'Median Sentence Length (Days)')"
      ]
     },
     "execution_count": 97,
     "metadata": {},
     "output_type": "execute_result"
    },
    {
     "data": {
      "text/plain": [
       "<matplotlib.legend.Legend at 0x15ad7faf4c0>"
      ]
     },
     "execution_count": 97,
     "metadata": {},
     "output_type": "execute_result"
    },
    {
     "data": {
      "image/png": "[encoded data removed]",
      "text/plain": [
       "<Figure size 432x288 with 1 Axes>"
      ]
     },
     "metadata": {
      "needs_background": "light"
     },
     "output_type": "display_data"
    }
   ],
   "source": [
    "median_df_plot = median_df.pivot(index='judgeid_derived', columns='is_black_derived', values='senlength_derived')\n",
    "median_df_plot.plot.bar(color=['rebeccapurple', 'gold'])\n",
    "plt.title('Median Sentencing by Judge', fontweight='bold')\n",
    "plt.xlabel('Judge ID')\n",
    "plt.ylabel('Median Sentence Length (Days)')\n",
    "plt.legend(['White', 'Black'], title='Defendant Race')\n",
    "plt.show()\n"
   ]
  },
  {
   "cell_type": "markdown",
   "metadata": {},
   "source": [
    "# 3. Optional extra credit/challenge exercise (2 points): impute possible demographic correlate of sentencing\n",
    "\n",
    "The previous exercises showed large differences in sentences between judges/differences in disparities. You become interested in how the judge's own demographic attributes are correlated with sentencing. Going back to the judge's name (`SENTENCE JUDGE`), parse their first name and try to probabilistically infer his or her gender. Then, investigate whether disparities differ between \"likely female\" and \"likely male\" judges. \n",
    "\n",
    "**Note on ethics of probabilistic inference of attributes based on name**: Using names to infer demographic characteristics has become increasingly popular with the rise of \"digital trace data\" that often lacks explicit demographic fields (e.g., tweets just have usernames and profiles; academic citation networks just have author names). But there are many valid ethical critiques of this practice. In the case of gender, a person's assigned name at birth clearly does not always map onto their self-identified gender, both due to genders beyond the binary of male/female and names like \"Morgan.\" A couple critiques I link to are:\n",
    "\n",
    "- [This blog post](https://scatter.wordpress.com/2021/07/30/who-writes-social-science/)\n",
    "- [Urban Institute ethical risks of race/ethnicity imputation - applies to gender](https://www.urban.org/research/publication/five-ethical-risks-consider-filling-missing-race-and-ethnicity-data)\n",
    "\n",
    " "
   ]
  },
  {
   "cell_type": "code",
   "execution_count": 12,
   "metadata": {},
   "outputs": [],
   "source": [
    "# write code here\n"
   ]
  }
 ],
 "metadata": {
  "kernelspec": {
   "display_name": "Python 3 (ipykernel)",
   "language": "python",
   "name": "python3"
  },
  "language_info": {
   "codemirror_mode": {
    "name": "ipython",
    "version": 3
   },
   "file_extension": ".py",
   "mimetype": "text/x-python",
   "name": "python",
   "nbconvert_exporter": "python",
   "pygments_lexer": "ipython3",
   "version": "3.9.7"
  }
 },
 "nbformat": 4,
 "nbformat_minor": 4
}
